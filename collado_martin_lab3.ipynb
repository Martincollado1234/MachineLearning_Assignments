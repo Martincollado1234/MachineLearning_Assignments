{
 "cells": [
  {
   "cell_type": "markdown",
   "metadata": {},
   "source": [
    "# Characters Classification with Neural Networks\n",
    "\n",
    "In this notebook we are going to use the Neural Networks for image classification. We are going to use the same dataset of the lab on SVM: Kuzushiji-MNIST or K-MNIST for short (https://github.com/rois-codh/kmnist) a dataset of traditional japanese handwritten kana.\n",
    "\n",
    "The dataset labels are the following:\n",
    "\n",
    "| Label | Hiragana Character | Romanji (Pronunciation) |\n",
    "| :-: | :-: | :-: |\n",
    "|   0   | お | o |\n",
    "| 1 | き | ki |\n",
    "| 2 | す | su |\n",
    "| 3 | つ | tsu |\n",
    "| 4 | な | na |\n",
    "| 5 | は | ha |\n",
    "| 6 | ま | ma |\n",
    "| 7 | や | ya |\n",
    "| 8 | れ | re |\n",
    "| 9 | を | wo |"
   ]
  },
  {
   "cell_type": "code",
   "execution_count": 1,
   "metadata": {},
   "outputs": [
    {
     "name": "stdout",
     "output_type": "stream",
     "text": [
      "scikit-learn version:  1.0.2\n"
     ]
    }
   ],
   "source": [
    "#load the required packages and check Scikit-learn version\n",
    "\n",
    "%matplotlib inline  \n",
    "\n",
    "import numpy as np\n",
    "import scipy as sp\n",
    "import matplotlib.pyplot as plt\n",
    "\n",
    "import sklearn\n",
    "print ('scikit-learn version: ', sklearn.__version__)\n",
    "from sklearn.neural_network import MLPClassifier\n",
    "from sklearn.model_selection import GridSearchCV\n",
    "from sklearn.svm import SVC"
   ]
  },
  {
   "cell_type": "code",
   "execution_count": 2,
   "metadata": {},
   "outputs": [],
   "source": [
    "# helper function to load KMNIST dataset from disk\n",
    "def load_mnist(path, kind='train'):\n",
    "    import os\n",
    "    import gzip\n",
    "    import numpy as np\n",
    "    labels_path = os.path.join(path, 'K%s-labels-idx1-ubyte.gz' % kind)\n",
    "    images_path = os.path.join(path, 'K%s-images-idx3-ubyte.gz' % kind)\n",
    "    with gzip.open(labels_path, 'rb') as lbpath:\n",
    "        labels = np.frombuffer(lbpath.read(), dtype=np.uint8,offset=8)\n",
    "    with gzip.open(images_path, 'rb') as imgpath:\n",
    "        images = np.frombuffer(imgpath.read(), dtype=np.uint8,offset=16).reshape(len(labels), 784)\n",
    "    return images, labels"
   ]
  },
  {
   "cell_type": "markdown",
   "metadata": {},
   "source": [
    "# TODO \n",
    "Set as seed for the random generator your Student ID (you can use your \"numero di matricola\"). Try to change the seed to see the impact of the randomization."
   ]
  },
  {
   "cell_type": "code",
   "execution_count": 3,
   "metadata": {},
   "outputs": [],
   "source": [
    "ID = 2039907\n",
    "np.random.seed(ID)"
   ]
  },
  {
   "cell_type": "code",
   "execution_count": 4,
   "metadata": {},
   "outputs": [
    {
     "name": "stdout",
     "output_type": "stream",
     "text": [
      "Number of samples in the K-MNIST dataset: 60000\n",
      "(60000, 784)\n"
     ]
    }
   ],
   "source": [
    "#load the MNIST dataset and let's normalize the features so that each value is in [0,1]\n",
    "X, y = load_mnist(\"data\")\n",
    "print(\"Number of samples in the K-MNIST dataset:\", X.shape[0])\n",
    "print(X.shape)\n",
    "# rescale the data\n",
    "X = X / 255.0"
   ]
  },
  {
   "cell_type": "markdown",
   "metadata": {},
   "source": [
    "Now split into training and test. We start with a small training set of 600 samples to reduce computation time while 4000 samples will be used for testing. Make sure that each label is present at least 10 times in train and test set frequencies."
   ]
  },
  {
   "cell_type": "code",
   "execution_count": 5,
   "metadata": {},
   "outputs": [
    {
     "name": "stdout",
     "output_type": "stream",
     "text": [
      "Labels in training dataset:  [0 1 2 3 4 5 6 7 8 9]\n",
      "Frequencies in training dataset:  [62 62 61 69 50 59 56 62 65 54]\n",
      "Labels in test set:  [0 1 2 3 4 5 6 7 8 9]\n",
      "Frequencies in test set:  [62 62 61 69 50 59 56 62 65 54]\n"
     ]
    }
   ],
   "source": [
    "#random permute the data and split into training and test taking the first 600\n",
    "#data samples as training and 4000 as test set\n",
    "permutation = np.random.permutation(X.shape[0])\n",
    "\n",
    "X = X[permutation]\n",
    "y = y[permutation]\n",
    "\n",
    "m_training = 600\n",
    "m_test = 4000\n",
    "\n",
    "X_train, X_test = X[:m_training], X[m_training:m_training+m_test]\n",
    "y_train, y_test = y[:m_training], y[m_training:m_training+m_test]\n",
    "\n",
    "labels, freqs = np.unique(y_train, return_counts=True)\n",
    "print(\"Labels in training dataset: \", labels)\n",
    "print(\"Frequencies in training dataset: \", freqs)\n",
    "\n",
    "labelsT, freqsT = np.unique(y_test, return_counts=True)\n",
    "print(\"Labels in test set: \", labels)\n",
    "print(\"Frequencies in test set: \", freqs)\n"
   ]
  },
  {
   "cell_type": "code",
   "execution_count": 6,
   "metadata": {},
   "outputs": [],
   "source": [
    "#function for plotting a image and printing the corresponding label\n",
    "def plot_input(X_matrix, labels, index):\n",
    "    print(\"INPUT:\")\n",
    "    plt.imshow(\n",
    "        X_matrix[index].reshape(28,28),\n",
    "        cmap          = plt.cm.gray_r,\n",
    "        interpolation = \"nearest\"\n",
    "    )\n",
    "    plt.show()\n",
    "    print(\"LABEL: %i\"%labels[index])\n",
    "    return"
   ]
  },
  {
   "cell_type": "code",
   "execution_count": 7,
   "metadata": {},
   "outputs": [
    {
     "name": "stdout",
     "output_type": "stream",
     "text": [
      "(600, 784)\n",
      "[0 2 8 1 5 8 5 3 0 3 1 7 2 9 0 8 0 1 4 7 6 6 7 3 3 4 5 4 0 5 4 1 5 3 8 6 3\n",
      " 5 9 5 0 6 2 2 3 5 6 3 4 2 4 6 3 4 2 5 4 8 2 3 1 7 7 7 1 6 5 7 5 3 3 5 2 5\n",
      " 9 2 3 3 9 2 6 4 3 0 1 2 9 6 0 8 8 6 4 7 2 0 0 1 8 0 6 6 6 8 6 9 5 1 9 6 9\n",
      " 1 7 0 6 0 7 6 3 4 1 3 1 6 6 3 1 2 3 3 1 6 4 1 8 9 7 8 1 0 9 8 9 5 0 4 5 9\n",
      " 8 2 4 0 5 7 8 7 8 5 4 7 8 9 2 3 7 1 0 8 7 9 9 7 9 5 3 4 1 3 3 9 5 7 8 7 1\n",
      " 1 8 8 1 1 6 5 6 8 0 8 9 6 8 8 7 0 9 7 9 0 6 8 0 8 8 6 3 1 0 3 1 3 7 6 1 0\n",
      " 3 0 8 2 6 0 4 9 5 8 7 2 0 7 0 9 9 8 3 6 5 8 7 5 5 3 3 1 9 8 3 7 1 5 2 5 7\n",
      " 5 3 1 5 9 6 2 0 9 5 4 2 0 8 8 3 3 1 0 5 2 7 1 5 7 0 4 4 5 7 4 4 3 4 0 9 4\n",
      " 1 2 7 8 1 6 9 6 4 7 3 3 5 7 2 0 0 3 1 5 7 8 6 8 8 9 8 0 4 5 1 4 5 9 4 0 8\n",
      " 6 6 7 2 1 2 8 8 0 8 7 7 3 7 8 2 0 7 2 9 5 1 2 4 3 0 2 8 3 5 0 0 4 4 0 0 6\n",
      " 9 6 4 9 3 8 7 6 5 9 5 0 8 1 8 1 2 0 3 0 9 1 2 3 2 0 6 7 8 6 5 3 2 2 4 2 3\n",
      " 6 4 6 7 5 3 9 4 5 1 7 1 0 7 1 8 2 3 3 7 5 8 4 9 2 0 3 3 6 4 1 1 1 8 6 1 9\n",
      " 8 7 2 7 5 5 7 4 7 1 3 4 4 7 8 9 1 2 6 9 0 6 4 3 2 5 7 2 2 6 7 7 3 4 7 5 2\n",
      " 6 7 3 9 9 0 4 5 0 5 9 0 4 7 4 8 1 9 2 4 7 5 4 0 1 8 1 3 8 7 2 1 9 5 1 2 5\n",
      " 6 7 8 1 2 9 3 5 0 9 6 2 1 2 1 3 5 2 3 2 9 8 6 6 3 0 2 2 1 9 2 7 3 2 2 2 2\n",
      " 0 7 5 7 1 0 2 8 6 9 9 3 3 6 2 8 0 8 0 1 6 5 1 6 5 1 4 2 8 6 8 3 8 9 4 3 1\n",
      " 3 9 0 4 3 0 3 9]\n",
      "INPUT:\n"
     ]
    },
    {
     "data": {
      "image/png": "[encoded data removed]",
      "text/plain": [
       "<Figure size 432x288 with 1 Axes>"
      ]
     },
     "metadata": {
      "needs_background": "light"
     },
     "output_type": "display_data"
    },
    {
     "name": "stdout",
     "output_type": "stream",
     "text": [
      "LABEL: 1\n",
      "INPUT:\n"
     ]
    },
    {
     "data": {
      "image/png": "[encoded data removed]",
      "text/plain": [
       "<Figure size 432x288 with 1 Axes>"
      ]
     },
     "metadata": {
      "needs_background": "light"
     },
     "output_type": "display_data"
    },
    {
     "name": "stdout",
     "output_type": "stream",
     "text": [
      "LABEL: 4\n",
      "INPUT:\n"
     ]
    },
    {
     "data": {
      "image/png": "[encoded data removed]",
      "text/plain": [
       "<Figure size 432x288 with 1 Axes>"
      ]
     },
     "metadata": {
      "needs_background": "light"
     },
     "output_type": "display_data"
    },
    {
     "name": "stdout",
     "output_type": "stream",
     "text": [
      "LABEL: 1\n"
     ]
    }
   ],
   "source": [
    "#let's try the plotting function\n",
    "print(X_train.shape)\n",
    "print(y_train)\n",
    "plot_input(X_train,y_train,10)\n",
    "plot_input(X_test,y_test,100)\n",
    "plot_input(X_test,y_test,1000)\n"
   ]
  },
  {
   "cell_type": "markdown",
   "metadata": {},
   "source": [
    "### TO DO 1\n",
    "\n",
    "Now use a feed-forward Neural Network for prediction. Use the multi-layer perceptron classifier, with the following parameters: max_iter=100, alpha=1e-4, solver='sgd', tol=1e-4, learning_rate_init=.1, random_state=ID (this last parameter ensures the run is the same even if you run it more than once). The alpha parameter is the regularization term.\n",
    "\n",
    "Then, using the default activation function, pick four or five architectures to consider, with different numbers of hidden layers and different sizes. It is not necessary to create huge neural networks, you can limit to 3 layers and, for each layer, its maximum size can be of 50. Evaluate the architectures you chose using GridSearchCV with cv=5.\n",
    "\n",
    "You can reduce the number of iterations if the running time is too long on your computer.\n"
   ]
  },
  {
   "cell_type": "code",
   "execution_count": 8,
   "metadata": {},
   "outputs": [
    {
     "name": "stderr",
     "output_type": "stream",
     "text": [
      "C:\\Users\\Administrador\\Anaconda3\\lib\\site-packages\\sklearn\\model_selection\\_search.py:814: DeprecationWarning: The default of the `iid` parameter will change from True to False in version 0.22 and will be removed in 0.24. This will change numeric results when test-set sizes are unequal.\n",
      "  DeprecationWarning)\n"
     ]
    },
    {
     "name": "stdout",
     "output_type": "stream",
     "text": [
      "RESULTS FOR NN\n",
      "\n",
      "Best hidden layer: (50,)\n",
      "Score with best hidden layer size: 0.76\n",
      "All scores on the grid:\n"
     ]
    },
    {
     "data": {
      "text/html": [
       "<div>\n",
       "<style scoped>\n",
       "    .dataframe tbody tr th:only-of-type {\n",
       "        vertical-align: middle;\n",
       "    }\n",
       "\n",
       "    .dataframe tbody tr th {\n",
       "        vertical-align: top;\n",
       "    }\n",
       "\n",
       "    .dataframe thead th {\n",
       "        text-align: right;\n",
       "    }\n",
       "</style>\n",
       "<table border=\"1\" class=\"dataframe\">\n",
       "  <thead>\n",
       "    <tr style=\"text-align: right;\">\n",
       "      <th></th>\n",
       "      <th>mean_fit_time</th>\n",
       "      <th>std_fit_time</th>\n",
       "      <th>mean_score_time</th>\n",
       "      <th>std_score_time</th>\n",
       "      <th>param_hidden_layer_sizes</th>\n",
       "      <th>params</th>\n",
       "      <th>split0_test_score</th>\n",
       "      <th>split1_test_score</th>\n",
       "      <th>split2_test_score</th>\n",
       "      <th>split3_test_score</th>\n",
       "      <th>split4_test_score</th>\n",
       "      <th>mean_test_score</th>\n",
       "      <th>std_test_score</th>\n",
       "      <th>rank_test_score</th>\n",
       "    </tr>\n",
       "  </thead>\n",
       "  <tbody>\n",
       "    <tr>\n",
       "      <td>0</td>\n",
       "      <td>0.370760</td>\n",
       "      <td>0.011925</td>\n",
       "      <td>0.000796</td>\n",
       "      <td>0.000398</td>\n",
       "      <td>(10,)</td>\n",
       "      <td>{'hidden_layer_sizes': (10,)}</td>\n",
       "      <td>0.685484</td>\n",
       "      <td>0.745902</td>\n",
       "      <td>0.689076</td>\n",
       "      <td>0.739496</td>\n",
       "      <td>0.741379</td>\n",
       "      <td>0.720000</td>\n",
       "      <td>0.027130</td>\n",
       "      <td>5</td>\n",
       "    </tr>\n",
       "    <tr>\n",
       "      <td>1</td>\n",
       "      <td>0.465043</td>\n",
       "      <td>0.028372</td>\n",
       "      <td>0.000998</td>\n",
       "      <td>0.000002</td>\n",
       "      <td>(40,)</td>\n",
       "      <td>{'hidden_layer_sizes': (40,)}</td>\n",
       "      <td>0.701613</td>\n",
       "      <td>0.770492</td>\n",
       "      <td>0.731092</td>\n",
       "      <td>0.806723</td>\n",
       "      <td>0.758621</td>\n",
       "      <td>0.753333</td>\n",
       "      <td>0.035799</td>\n",
       "      <td>3</td>\n",
       "    </tr>\n",
       "    <tr>\n",
       "      <td>2</td>\n",
       "      <td>0.556637</td>\n",
       "      <td>0.044618</td>\n",
       "      <td>0.000997</td>\n",
       "      <td>0.000631</td>\n",
       "      <td>(50,)</td>\n",
       "      <td>{'hidden_layer_sizes': (50,)}</td>\n",
       "      <td>0.725806</td>\n",
       "      <td>0.770492</td>\n",
       "      <td>0.747899</td>\n",
       "      <td>0.806723</td>\n",
       "      <td>0.750000</td>\n",
       "      <td>0.760000</td>\n",
       "      <td>0.027301</td>\n",
       "      <td>1</td>\n",
       "    </tr>\n",
       "    <tr>\n",
       "      <td>3</td>\n",
       "      <td>0.579386</td>\n",
       "      <td>0.078761</td>\n",
       "      <td>0.001594</td>\n",
       "      <td>0.000488</td>\n",
       "      <td>(50, 50)</td>\n",
       "      <td>{'hidden_layer_sizes': (50, 50)}</td>\n",
       "      <td>0.709677</td>\n",
       "      <td>0.770492</td>\n",
       "      <td>0.731092</td>\n",
       "      <td>0.815126</td>\n",
       "      <td>0.758621</td>\n",
       "      <td>0.756667</td>\n",
       "      <td>0.036103</td>\n",
       "      <td>2</td>\n",
       "    </tr>\n",
       "    <tr>\n",
       "      <td>4</td>\n",
       "      <td>0.448941</td>\n",
       "      <td>0.020931</td>\n",
       "      <td>0.001395</td>\n",
       "      <td>0.000797</td>\n",
       "      <td>(50, 50, 50)</td>\n",
       "      <td>{'hidden_layer_sizes': (50, 50, 50)}</td>\n",
       "      <td>0.733871</td>\n",
       "      <td>0.770492</td>\n",
       "      <td>0.731092</td>\n",
       "      <td>0.773109</td>\n",
       "      <td>0.750000</td>\n",
       "      <td>0.751667</td>\n",
       "      <td>0.017697</td>\n",
       "      <td>4</td>\n",
       "    </tr>\n",
       "  </tbody>\n",
       "</table>\n",
       "</div>"
      ],
      "text/plain": [
       "   mean_fit_time  std_fit_time  mean_score_time  std_score_time  \\\n",
       "0       0.370760      0.011925         0.000796        0.000398   \n",
       "1       0.465043      0.028372         0.000998        0.000002   \n",
       "2       0.556637      0.044618         0.000997        0.000631   \n",
       "3       0.579386      0.078761         0.001594        0.000488   \n",
       "4       0.448941      0.020931         0.001395        0.000797   \n",
       "\n",
       "  param_hidden_layer_sizes                                params  \\\n",
       "0                    (10,)         {'hidden_layer_sizes': (10,)}   \n",
       "1                    (40,)         {'hidden_layer_sizes': (40,)}   \n",
       "2                    (50,)         {'hidden_layer_sizes': (50,)}   \n",
       "3                 (50, 50)      {'hidden_layer_sizes': (50, 50)}   \n",
       "4             (50, 50, 50)  {'hidden_layer_sizes': (50, 50, 50)}   \n",
       "\n",
       "   split0_test_score  split1_test_score  split2_test_score  split3_test_score  \\\n",
       "0           0.685484           0.745902           0.689076           0.739496   \n",
       "1           0.701613           0.770492           0.731092           0.806723   \n",
       "2           0.725806           0.770492           0.747899           0.806723   \n",
       "3           0.709677           0.770492           0.731092           0.815126   \n",
       "4           0.733871           0.770492           0.731092           0.773109   \n",
       "\n",
       "   split4_test_score  mean_test_score  std_test_score  rank_test_score  \n",
       "0           0.741379         0.720000        0.027130                5  \n",
       "1           0.758621         0.753333        0.035799                3  \n",
       "2           0.750000         0.760000        0.027301                1  \n",
       "3           0.758621         0.756667        0.036103                2  \n",
       "4           0.750000         0.751667        0.017697                4  "
      ]
     },
     "execution_count": 8,
     "metadata": {},
     "output_type": "execute_result"
    }
   ],
   "source": [
    "# these are sample values but feel free to change them as you like, try to experiment with different sizes!!\n",
    "import pandas as pd\n",
    "\n",
    "#1. Compare one hidden layer with different size\n",
    "#parameters = {'hidden_layer_sizes': [(1,),(10,), (20,), (40,), (50,)]}\n",
    "\n",
    "#2. Compare networks with different depth\n",
    "#parameters = {'hidden_layer_sizes': [(10,),(10,10), (20,20), (20,30), (20,20,20)]}\n",
    "\n",
    "#3. Compare different number of layers with different sizes too\n",
    "parameters = {'hidden_layer_sizes': [(10,),(40,), (50,), (50,50), (50,50,50)]}\n",
    "\n",
    "mlp = MLPClassifier(max_iter=100, alpha=1e-4, solver='sgd',\n",
    "                    tol=1e-4, random_state=ID,\n",
    "                    learning_rate_init=.1)\n",
    "\n",
    "\n",
    "gridsearchcv = GridSearchCV(mlp,parameters,cv=5)\n",
    "gridsearchcv.fit(X_train, y_train)\n",
    "\n",
    "#ADD YOUR CODE\n",
    "\n",
    "print ('RESULTS FOR NN\\n')\n",
    "\n",
    "best_hidden_layer_size = gridsearchcv.best_params_['hidden_layer_sizes']\n",
    "print(\"Best hidden layer:\",best_hidden_layer_size)\n",
    "\n",
    "\n",
    "best_score = gridsearchcv.best_score_\n",
    "print(\"Score with best hidden layer size:\",best_score)\n",
    "\n",
    "print(\"All scores on the grid:\")\n",
    "results = gridsearchcv.cv_results_\n",
    "dfresults = pd.DataFrame(results)\n",
    "dfresults"
   ]
  },
  {
   "cell_type": "markdown",
   "metadata": {},
   "source": [
    "### TO DO 2\n",
    "\n",
    "Now try also different batch sizes, while keeping the best NN architecture you have found above. Remember that the batch size was previously set to the default value, i.e., min(200, n_samples). \n",
    "Recall that a batch size of 1 corresponds to baseline SGD, while using all the 480 training samples (there are 600 samples but in cross validation with 5 folders we use 1/5 of them for validation at each round) corresponds to standard GD and using a different mini-batch size lies in the middle between the two extreme cases."
   ]
  },
  {
   "cell_type": "code",
   "execution_count": 9,
   "metadata": {},
   "outputs": [
    {
     "name": "stderr",
     "output_type": "stream",
     "text": [
      "C:\\Users\\Administrador\\Anaconda3\\lib\\site-packages\\sklearn\\neural_network\\multilayer_perceptron.py:566: ConvergenceWarning: Stochastic Optimizer: Maximum iterations (100) reached and the optimization hasn't converged yet.\n",
      "  % self.max_iter, ConvergenceWarning)\n",
      "C:\\Users\\Administrador\\Anaconda3\\lib\\site-packages\\sklearn\\neural_network\\multilayer_perceptron.py:566: ConvergenceWarning: Stochastic Optimizer: Maximum iterations (100) reached and the optimization hasn't converged yet.\n",
      "  % self.max_iter, ConvergenceWarning)\n",
      "C:\\Users\\Administrador\\Anaconda3\\lib\\site-packages\\sklearn\\neural_network\\multilayer_perceptron.py:566: ConvergenceWarning: Stochastic Optimizer: Maximum iterations (100) reached and the optimization hasn't converged yet.\n",
      "  % self.max_iter, ConvergenceWarning)\n",
      "C:\\Users\\Administrador\\Anaconda3\\lib\\site-packages\\sklearn\\neural_network\\multilayer_perceptron.py:566: ConvergenceWarning: Stochastic Optimizer: Maximum iterations (100) reached and the optimization hasn't converged yet.\n",
      "  % self.max_iter, ConvergenceWarning)\n",
      "C:\\Users\\Administrador\\Anaconda3\\lib\\site-packages\\sklearn\\neural_network\\multilayer_perceptron.py:566: ConvergenceWarning: Stochastic Optimizer: Maximum iterations (100) reached and the optimization hasn't converged yet.\n",
      "  % self.max_iter, ConvergenceWarning)\n",
      "C:\\Users\\Administrador\\Anaconda3\\lib\\site-packages\\sklearn\\neural_network\\multilayer_perceptron.py:566: ConvergenceWarning: Stochastic Optimizer: Maximum iterations (100) reached and the optimization hasn't converged yet.\n",
      "  % self.max_iter, ConvergenceWarning)\n"
     ]
    },
    {
     "name": "stdout",
     "output_type": "stream",
     "text": [
      "RESULTS FOR NN\n",
      "\n",
      "Best batch size: 50\n",
      "Score with best batch size: 0.7583333333333333\n",
      "All scores on the grid:\n"
     ]
    },
    {
     "data": {
      "text/html": [
       "<div>\n",
       "<style scoped>\n",
       "    .dataframe tbody tr th:only-of-type {\n",
       "        vertical-align: middle;\n",
       "    }\n",
       "\n",
       "    .dataframe tbody tr th {\n",
       "        vertical-align: top;\n",
       "    }\n",
       "\n",
       "    .dataframe thead th {\n",
       "        text-align: right;\n",
       "    }\n",
       "</style>\n",
       "<table border=\"1\" class=\"dataframe\">\n",
       "  <thead>\n",
       "    <tr style=\"text-align: right;\">\n",
       "      <th></th>\n",
       "      <th>mean_fit_time</th>\n",
       "      <th>std_fit_time</th>\n",
       "      <th>mean_score_time</th>\n",
       "      <th>std_score_time</th>\n",
       "      <th>param_batch_size</th>\n",
       "      <th>params</th>\n",
       "      <th>split0_test_score</th>\n",
       "      <th>split1_test_score</th>\n",
       "      <th>split2_test_score</th>\n",
       "      <th>split3_test_score</th>\n",
       "      <th>split4_test_score</th>\n",
       "      <th>mean_test_score</th>\n",
       "      <th>std_test_score</th>\n",
       "      <th>rank_test_score</th>\n",
       "    </tr>\n",
       "  </thead>\n",
       "  <tbody>\n",
       "    <tr>\n",
       "      <td>0</td>\n",
       "      <td>21.966183</td>\n",
       "      <td>5.526985</td>\n",
       "      <td>0.001196</td>\n",
       "      <td>3.984468e-04</td>\n",
       "      <td>1</td>\n",
       "      <td>{'batch_size': 1}</td>\n",
       "      <td>0.133333</td>\n",
       "      <td>0.100000</td>\n",
       "      <td>0.100000</td>\n",
       "      <td>0.108333</td>\n",
       "      <td>0.083333</td>\n",
       "      <td>0.105000</td>\n",
       "      <td>0.016330</td>\n",
       "      <td>7</td>\n",
       "    </tr>\n",
       "    <tr>\n",
       "      <td>1</td>\n",
       "      <td>1.431180</td>\n",
       "      <td>0.364693</td>\n",
       "      <td>0.000798</td>\n",
       "      <td>3.992103e-04</td>\n",
       "      <td>10</td>\n",
       "      <td>{'batch_size': 10}</td>\n",
       "      <td>0.591667</td>\n",
       "      <td>0.733333</td>\n",
       "      <td>0.641667</td>\n",
       "      <td>0.650000</td>\n",
       "      <td>0.650000</td>\n",
       "      <td>0.653333</td>\n",
       "      <td>0.045522</td>\n",
       "      <td>6</td>\n",
       "    </tr>\n",
       "    <tr>\n",
       "      <td>2</td>\n",
       "      <td>0.472674</td>\n",
       "      <td>0.037319</td>\n",
       "      <td>0.000996</td>\n",
       "      <td>3.295355e-06</td>\n",
       "      <td>50</td>\n",
       "      <td>{'batch_size': 50}</td>\n",
       "      <td>0.750000</td>\n",
       "      <td>0.800000</td>\n",
       "      <td>0.716667</td>\n",
       "      <td>0.783333</td>\n",
       "      <td>0.741667</td>\n",
       "      <td>0.758333</td>\n",
       "      <td>0.029814</td>\n",
       "      <td>1</td>\n",
       "    </tr>\n",
       "    <tr>\n",
       "      <td>3</td>\n",
       "      <td>0.499797</td>\n",
       "      <td>0.037079</td>\n",
       "      <td>0.000997</td>\n",
       "      <td>6.310529e-04</td>\n",
       "      <td>100</td>\n",
       "      <td>{'batch_size': 100}</td>\n",
       "      <td>0.741667</td>\n",
       "      <td>0.800000</td>\n",
       "      <td>0.733333</td>\n",
       "      <td>0.766667</td>\n",
       "      <td>0.733333</td>\n",
       "      <td>0.755000</td>\n",
       "      <td>0.025604</td>\n",
       "      <td>3</td>\n",
       "    </tr>\n",
       "    <tr>\n",
       "      <td>4</td>\n",
       "      <td>0.673815</td>\n",
       "      <td>0.105419</td>\n",
       "      <td>0.001197</td>\n",
       "      <td>3.991395e-04</td>\n",
       "      <td>200</td>\n",
       "      <td>{'batch_size': 200}</td>\n",
       "      <td>0.750000</td>\n",
       "      <td>0.816667</td>\n",
       "      <td>0.700000</td>\n",
       "      <td>0.775000</td>\n",
       "      <td>0.733333</td>\n",
       "      <td>0.755000</td>\n",
       "      <td>0.039299</td>\n",
       "      <td>3</td>\n",
       "    </tr>\n",
       "    <tr>\n",
       "      <td>5</td>\n",
       "      <td>0.580371</td>\n",
       "      <td>0.043699</td>\n",
       "      <td>0.000997</td>\n",
       "      <td>7.478899e-07</td>\n",
       "      <td>300</td>\n",
       "      <td>{'batch_size': 300}</td>\n",
       "      <td>0.750000</td>\n",
       "      <td>0.808333</td>\n",
       "      <td>0.725000</td>\n",
       "      <td>0.775000</td>\n",
       "      <td>0.733333</td>\n",
       "      <td>0.758333</td>\n",
       "      <td>0.030277</td>\n",
       "      <td>1</td>\n",
       "    </tr>\n",
       "    <tr>\n",
       "      <td>6</td>\n",
       "      <td>0.624047</td>\n",
       "      <td>0.048348</td>\n",
       "      <td>0.000998</td>\n",
       "      <td>1.386932e-06</td>\n",
       "      <td>480</td>\n",
       "      <td>{'batch_size': 480}</td>\n",
       "      <td>0.750000</td>\n",
       "      <td>0.808333</td>\n",
       "      <td>0.716667</td>\n",
       "      <td>0.766667</td>\n",
       "      <td>0.733333</td>\n",
       "      <td>0.755000</td>\n",
       "      <td>0.031447</td>\n",
       "      <td>3</td>\n",
       "    </tr>\n",
       "  </tbody>\n",
       "</table>\n",
       "</div>"
      ],
      "text/plain": [
       "   mean_fit_time  std_fit_time  mean_score_time  std_score_time  \\\n",
       "0      21.966183      5.526985         0.001196    3.984468e-04   \n",
       "1       1.431180      0.364693         0.000798    3.992103e-04   \n",
       "2       0.472674      0.037319         0.000996    3.295355e-06   \n",
       "3       0.499797      0.037079         0.000997    6.310529e-04   \n",
       "4       0.673815      0.105419         0.001197    3.991395e-04   \n",
       "5       0.580371      0.043699         0.000997    7.478899e-07   \n",
       "6       0.624047      0.048348         0.000998    1.386932e-06   \n",
       "\n",
       "  param_batch_size               params  split0_test_score  split1_test_score  \\\n",
       "0                1    {'batch_size': 1}           0.133333           0.100000   \n",
       "1               10   {'batch_size': 10}           0.591667           0.733333   \n",
       "2               50   {'batch_size': 50}           0.750000           0.800000   \n",
       "3              100  {'batch_size': 100}           0.741667           0.800000   \n",
       "4              200  {'batch_size': 200}           0.750000           0.816667   \n",
       "5              300  {'batch_size': 300}           0.750000           0.808333   \n",
       "6              480  {'batch_size': 480}           0.750000           0.808333   \n",
       "\n",
       "   split2_test_score  split3_test_score  split4_test_score  mean_test_score  \\\n",
       "0           0.100000           0.108333           0.083333         0.105000   \n",
       "1           0.641667           0.650000           0.650000         0.653333   \n",
       "2           0.716667           0.783333           0.741667         0.758333   \n",
       "3           0.733333           0.766667           0.733333         0.755000   \n",
       "4           0.700000           0.775000           0.733333         0.755000   \n",
       "5           0.725000           0.775000           0.733333         0.758333   \n",
       "6           0.716667           0.766667           0.733333         0.755000   \n",
       "\n",
       "   std_test_score  rank_test_score  \n",
       "0        0.016330                7  \n",
       "1        0.045522                6  \n",
       "2        0.029814                1  \n",
       "3        0.025604                3  \n",
       "4        0.039299                3  \n",
       "5        0.030277                1  \n",
       "6        0.031447                3  "
      ]
     },
     "execution_count": 9,
     "metadata": {},
     "output_type": "execute_result"
    }
   ],
   "source": [
    "# these are sample values corresponding to baseline SGD, a reasonable mini-batch size and standard GD\n",
    "# again feel free to change them as you like, try to experiment with different batch sizes!!\n",
    "\n",
    "#parameters = {'batch_size': [1, 32, 100, 200, 300, 400, 450, 480]}\n",
    "parameters = {'batch_size': [1,10,50,100,200,300,480]}\n",
    "\n",
    "# need to specify that you would like to use the standard k-fold split otherwise sklearn create splits of different sizes\n",
    "kf = sklearn.model_selection.KFold(n_splits=5)\n",
    "\n",
    "mlp = MLPClassifier(hidden_layer_sizes=best_hidden_layer_size, max_iter=100, alpha=1e-4, solver='sgd',\n",
    "                    tol=1e-4, random_state=ID,\n",
    "                    learning_rate_init=.1)\n",
    "\n",
    "gridsearchcv2 = GridSearchCV(mlp,parameters,cv=kf)\n",
    "gridsearchcv2.fit(X_train, y_train)\n",
    "\n",
    "# recall to use cv=kf to use the k-fold subdivision seen in the lectures\n",
    "\n",
    "print ('RESULTS FOR NN\\n')\n",
    "\n",
    "best_parameter = gridsearchcv2.best_params_\n",
    "best_batch_size = best_parameter['batch_size']\n",
    "print(\"Best batch size:\",best_batch_size)\n",
    "\n",
    "best_score = gridsearchcv2.best_score_\n",
    "print(\"Score with best batch size:\",best_score)\n",
    "\n",
    "print(\"All scores on the grid:\")\n",
    "results = gridsearchcv2.cv_results_\n",
    "dfresults = pd.DataFrame(results)\n",
    "dfresults"
   ]
  },
  {
   "cell_type": "markdown",
   "metadata": {},
   "source": [
    "### QUESTION 1\n",
    "\n",
    "What do you observe for different architectures and batch sizes? How do the number of layers and their sizes affect the performances? What do you observe for different batch sizes, in particular what happens to the training convergence for different batch sizes (notice that the algorithm could not converge for some batch sizes)?"
   ]
  },
  {
   "cell_type": "markdown",
   "metadata": {},
   "source": [
    "## [ANSWER TO QUESTION 1]\n",
    "\n",
    "If we have the same number of hidden layers (#comparison1), the model will be more accurate if the size of this hidden layer is bigger. Comparing a hidden layer of size 1, 10, 20, 40, 50 the best model is the one with 50 neurons although among the results obtained with 20, 40 and 50 there is no a huge difference.\n",
    "\n",
    "For this classification problem, analysing results in #comparison2, I see that having a bigger number of layers doesn't guarantee to create a  more accurate model. But when we have more neurons in the hidden layers the models get better results.\n",
    "\n",
    "In fact, in #comparison3 the best results are obtained just with one hidden layer with 50 neurons.\n",
    "\n",
    "Before discussing the results with the different batch sizes, I'm going to define this parameter and epoch.\n",
    "\n",
    "The batch size is the number of samples that are passed to the network at once and the epoch is the pass of all the training data to the network. So the larger the batch size, the faster the model will complete the epoch. Generally, if we use a batch_size too large, it will lead to poor generalization.\n",
    "\n",
    "The best results are obtained with batch_size = 50. When the batch_size = 1 or 480, the algorithm couldn't converge.\n",
    "\n"
   ]
  },
  {
   "cell_type": "markdown",
   "metadata": {},
   "source": [
    "### TODO 3:\n",
    "\n",
    "Plot the train and test accuracies as a function of the number of learnable parameters in your neural network. Print also the computation time for the various configurations you try (the code for getting the computation time is already provided). You can use 100 iterations (if you get a warning on convergence not reached it is not an issue for this lab)"
   ]
  },
  {
   "cell_type": "code",
   "execution_count": 10,
   "metadata": {},
   "outputs": [
    {
     "name": "stdout",
     "output_type": "stream",
     "text": [
      "[7960, 31810, 39760, 42310, 44860]\n",
      "Training MLP of size (10,) ...\n",
      "Training accuracy: 1.0\n",
      "Test accuracy: 0.721\n",
      "Done, training time: 0.67 sec\n",
      "\n",
      "Training MLP of size (40,) ...\n",
      "Training accuracy: 1.0\n",
      "Test accuracy: 0.75575\n",
      "Done, training time: 0.81 sec\n",
      "\n",
      "Training MLP of size (50,) ...\n",
      "Training accuracy: 1.0\n",
      "Test accuracy: 0.7535\n",
      "Done, training time: 0.72 sec\n",
      "\n",
      "Training MLP of size (50, 50) ...\n",
      "Training accuracy: 1.0\n",
      "Test accuracy: 0.7685\n",
      "Done, training time: 0.64 sec\n",
      "\n",
      "Training MLP of size (50, 50, 50) ...\n",
      "Training accuracy: 1.0\n",
      "Test accuracy: 0.75925\n",
      "Done, training time: 0.63 sec\n",
      "\n"
     ]
    },
    {
     "data": {
      "image/png": "[encoded data removed]",
      "text/plain": [
       "<Figure size 1080x360 with 2 Axes>"
      ]
     },
     "metadata": {
      "needs_background": "light"
     },
     "output_type": "display_data"
    }
   ],
   "source": [
    "import time\n",
    "from functools import reduce\n",
    "\n",
    "# Function to compute the number of learnable parameters of a mlp given the size of its hidden layers\n",
    "def param_count(hl_size):\n",
    "    tot = 0\n",
    "    input_size, output_size = X_train.shape[1], len(labels)\n",
    "    tot += (input_size+1)*hl_size[0]\n",
    "    for i in range(1,len(hl_size)):\n",
    "        tot += (hl_size[i-1]+1)*hl_size[i]\n",
    "    tot += (hl_size[-1]+1)*output_size\n",
    "    return tot\n",
    "\n",
    "hl_sizes = [(10,),(40,), (50,), (50,50), (50,50,50)]\n",
    "hl_labels = [param_count(t) for t in hl_sizes]\n",
    "print(hl_labels)\n",
    "\n",
    "ti = time.time()\n",
    "train_acc_list, test_acc_list = [], []\n",
    "for hl_size in hl_sizes:\n",
    "    print('Training MLP of size {} ...'.format(hl_size))\n",
    "    mlp = MLPClassifier(hidden_layer_sizes=hl_size, max_iter=100, alpha=1e-4, solver='sgd',\n",
    "                    tol=1e-4, random_state=ID,\n",
    "                    learning_rate_init=.1)\n",
    "    \n",
    "    mlp.fit(X_train,y_train)\n",
    "    \n",
    "    print(\"Training accuracy:\",mlp.score(X_train,y_train))\n",
    "    print(\"Test accuracy:\",mlp.score(X_test,y_test))\n",
    "   \n",
    "    train_acc_list.append(mlp.score(X_train, y_train))\n",
    "    test_acc_list.append(mlp.score(X_test, y_test))\n",
    "    print('Done, training time: {:.2f} sec\\n'.format(time.time()-ti))\n",
    "    ti = time.time()\n",
    "\n",
    "fig, ax = plt.subplots(1,2, figsize=(15,5))\n",
    "\n",
    "\n",
    "ax[0].plot(train_acc_list)\n",
    "ax[0].set_xlabel('Number of learnable params')\n",
    "ax[0].set_title('Train accuracy')\n",
    "ax[0].set_xticks(np.arange(0,len(hl_labels)))\n",
    "ax[0].set_xticklabels(hl_labels)\n",
    "ax[0].grid(True)\n",
    "\n",
    "ax[1].plot(test_acc_list)\n",
    "ax[1].set_xlabel('Number of learnable params')\n",
    "ax[1].set_title('Test accuracy')\n",
    "ax[1].set_xticks(np.arange(0,len(hl_labels)))\n",
    "ax[1].set_xticklabels(hl_labels)\n",
    "ax[1].grid(True)\n"
   ]
  },
  {
   "cell_type": "markdown",
   "metadata": {},
   "source": [
    "## Question 2:\n",
    "\n",
    "Comment about the training and test accuracies referring to the discussion on underfitting and overfitting we did in the course"
   ]
  },
  {
   "cell_type": "markdown",
   "metadata": {},
   "source": [
    "## [ANSWER TO QUESTION 2]\n",
    "\n",
    "The train accuracy of these models is always 100% regardless the number of learnable parameters. However, generally when the number of learnable parameters is smaller  the test accuracy is lower. \n",
    "\n",
    "When the number of learnable parameters is equal to 7960 we are seeing an overfitting issue.\n",
    "\n"
   ]
  },
  {
   "cell_type": "markdown",
   "metadata": {},
   "source": [
    "### TO DO 4\n",
    "\n",
    "Now try also to use different learning rates, while keeping the best NN architecture and batch size you have found above. Plot the learning curves (i.e., the variation of the loss over the steps, you can get it from the loss_curve_ object of sklearn) for the different values of the learning rate. Try to run each training for 100 iterations. "
   ]
  },
  {
   "cell_type": "code",
   "execution_count": 11,
   "metadata": {},
   "outputs": [
    {
     "name": "stderr",
     "output_type": "stream",
     "text": [
      "C:\\Users\\Administrador\\Anaconda3\\lib\\site-packages\\sklearn\\neural_network\\multilayer_perceptron.py:566: ConvergenceWarning: Stochastic Optimizer: Maximum iterations (100) reached and the optimization hasn't converged yet.\n",
      "  % self.max_iter, ConvergenceWarning)\n",
      "C:\\Users\\Administrador\\Anaconda3\\lib\\site-packages\\sklearn\\neural_network\\multilayer_perceptron.py:566: ConvergenceWarning: Stochastic Optimizer: Maximum iterations (100) reached and the optimization hasn't converged yet.\n",
      "  % self.max_iter, ConvergenceWarning)\n",
      "C:\\Users\\Administrador\\Anaconda3\\lib\\site-packages\\sklearn\\neural_network\\multilayer_perceptron.py:566: ConvergenceWarning: Stochastic Optimizer: Maximum iterations (100) reached and the optimization hasn't converged yet.\n",
      "  % self.max_iter, ConvergenceWarning)\n",
      "C:\\Users\\Administrador\\Anaconda3\\lib\\site-packages\\sklearn\\neural_network\\multilayer_perceptron.py:566: ConvergenceWarning: Stochastic Optimizer: Maximum iterations (100) reached and the optimization hasn't converged yet.\n",
      "  % self.max_iter, ConvergenceWarning)\n",
      "C:\\Users\\Administrador\\Anaconda3\\lib\\site-packages\\sklearn\\neural_network\\multilayer_perceptron.py:566: ConvergenceWarning: Stochastic Optimizer: Maximum iterations (100) reached and the optimization hasn't converged yet.\n",
      "  % self.max_iter, ConvergenceWarning)\n",
      "C:\\Users\\Administrador\\Anaconda3\\lib\\site-packages\\sklearn\\neural_network\\multilayer_perceptron.py:566: ConvergenceWarning: Stochastic Optimizer: Maximum iterations (100) reached and the optimization hasn't converged yet.\n",
      "  % self.max_iter, ConvergenceWarning)\n",
      "C:\\Users\\Administrador\\Anaconda3\\lib\\site-packages\\sklearn\\neural_network\\multilayer_perceptron.py:566: ConvergenceWarning: Stochastic Optimizer: Maximum iterations (100) reached and the optimization hasn't converged yet.\n",
      "  % self.max_iter, ConvergenceWarning)\n",
      "C:\\Users\\Administrador\\Anaconda3\\lib\\site-packages\\sklearn\\neural_network\\multilayer_perceptron.py:566: ConvergenceWarning: Stochastic Optimizer: Maximum iterations (100) reached and the optimization hasn't converged yet.\n",
      "  % self.max_iter, ConvergenceWarning)\n",
      "C:\\Users\\Administrador\\Anaconda3\\lib\\site-packages\\sklearn\\neural_network\\multilayer_perceptron.py:566: ConvergenceWarning: Stochastic Optimizer: Maximum iterations (100) reached and the optimization hasn't converged yet.\n",
      "  % self.max_iter, ConvergenceWarning)\n",
      "C:\\Users\\Administrador\\Anaconda3\\lib\\site-packages\\sklearn\\neural_network\\multilayer_perceptron.py:566: ConvergenceWarning: Stochastic Optimizer: Maximum iterations (100) reached and the optimization hasn't converged yet.\n",
      "  % self.max_iter, ConvergenceWarning)\n"
     ]
    },
    {
     "name": "stdout",
     "output_type": "stream",
     "text": [
      "RESULTS FOR NN\n",
      "\n",
      "Best learning rate: 0.02\n",
      "Score with best parameters: 0.76\n"
     ]
    },
    {
     "name": "stderr",
     "output_type": "stream",
     "text": [
      "C:\\Users\\Administrador\\Anaconda3\\lib\\site-packages\\sklearn\\neural_network\\multilayer_perceptron.py:566: ConvergenceWarning: Stochastic Optimizer: Maximum iterations (100) reached and the optimization hasn't converged yet.\n",
      "  % self.max_iter, ConvergenceWarning)\n",
      "C:\\Users\\Administrador\\Anaconda3\\lib\\site-packages\\sklearn\\neural_network\\multilayer_perceptron.py:566: ConvergenceWarning: Stochastic Optimizer: Maximum iterations (100) reached and the optimization hasn't converged yet.\n",
      "  % self.max_iter, ConvergenceWarning)\n"
     ]
    },
    {
     "data": {
      "text/plain": [
       "<matplotlib.legend.Legend at 0x1503107bc08>"
      ]
     },
     "execution_count": 11,
     "metadata": {},
     "output_type": "execute_result"
    },
    {
     "data": {
      "image/png": "[encoded data removed]",
      "text/plain": [
       "<Figure size 432x288 with 1 Axes>"
      ]
     },
     "metadata": {
      "needs_background": "light"
     },
     "output_type": "display_data"
    }
   ],
   "source": [
    "import matplotlib.pyplot as plt\n",
    "import operator\n",
    "\n",
    "lr_list = [0.0002, 0.002, 0.02, 0.2]\n",
    "parameters = {'learning_rate_init': lr_list}\n",
    "scores = {}\n",
    "mlp = MLPClassifier(hidden_layer_sizes=best_hidden_layer_size,batch_size=best_batch_size, max_iter=100, alpha=1e-4, solver='sgd',\n",
    "                    tol=1e-4, random_state=ID)\n",
    "\n",
    "gridsearchcv3 = GridSearchCV(mlp,parameters,cv=kf)\n",
    "gridsearchcv3.fit(X_train, y_train)\n",
    "\n",
    "print ('RESULTS FOR NN\\n')\n",
    "\n",
    "best_learning_rate = gridsearchcv3.best_params_['learning_rate_init']\n",
    "\n",
    "print(\"Best learning rate:\", best_learning_rate)\n",
    "\n",
    "print(\"Score with best parameters:\",gridsearchcv3.best_score_)\n",
    "\n",
    "plt.figure()\n",
    "plt.title('Plot of the learning curves')\n",
    "for lri in lr_list:\n",
    "    mlpwithlri = MLPClassifier(hidden_layer_sizes=best_hidden_layer_size,batch_size=best_batch_size, max_iter=100, alpha=1e-4, solver='sgd',\n",
    "                    tol=1e-4, random_state=ID,learning_rate_init=lri)\n",
    "    \n",
    "    mlpwithlri.fit(X_train,y_train)\n",
    "    loss_curve = mlpwithlri.loss_curve_\n",
    "    \n",
    "    plt.plot(loss_curve,label= \"Learning rate\"+str(lri))\n",
    "\n",
    "plt.legend()\n",
    "    \n",
    "    \n",
    "    \n",
    "    \n",
    "\n"
   ]
  },
  {
   "cell_type": "markdown",
   "metadata": {},
   "source": [
    "### QUESTION 3\n",
    "\n",
    "Comment about the learning curves (i.e. the variation of the loss over the steps). How does the curve changes for different learning rates in terms of stability and speed of convergence ?"
   ]
  },
  {
   "cell_type": "markdown",
   "metadata": {},
   "source": [
    "## [ANSWER TO QUESTION 3]\n",
    "\n",
    "The higher the learning rate, the less number of  iterations  it takes to reach low loss. So the speed of covergence is bigger, but at the same time, is more unstable as we can see with LR=0.2.\n",
    "\n",
    "We observe that with LR=0.02 the lowest loss is obtained before reaching the maximum number of iterations(100). \n",
    "\n",
    "We observe that with LR=0.0002 the loss_curve decreases almost linearly and reaches the maximum number of iterations with a high loss in comparison with the others.\n",
    "\n"
   ]
  },
  {
   "cell_type": "markdown",
   "metadata": {},
   "source": [
    "### TO DO 5\n",
    "\n",
    "Now get training and test error for a NN with best parameters (architecture, batch size and learning rate) from above. Plot the learning curve also for this case (you can run the training for 500 iterations)."
   ]
  },
  {
   "cell_type": "code",
   "execution_count": 12,
   "metadata": {
    "scrolled": true
   },
   "outputs": [
    {
     "name": "stdout",
     "output_type": "stream",
     "text": [
      "\n",
      "RESULTS FOR BEST NN\n",
      "\n",
      "Best NN training error: 0.0\n",
      "Best NN test error: 0.24875000000000003\n"
     ]
    },
    {
     "data": {
      "text/plain": [
       "<matplotlib.legend.Legend at 0x15030f1f7c8>"
      ]
     },
     "execution_count": 12,
     "metadata": {},
     "output_type": "execute_result"
    },
    {
     "data": {
      "image/png": "[encoded data removed]",
      "text/plain": [
       "<Figure size 432x288 with 1 Axes>"
      ]
     },
     "metadata": {
      "needs_background": "light"
     },
     "output_type": "display_data"
    }
   ],
   "source": [
    "#get training and test error for the best NN model from CV\n",
    "\n",
    "best_mlp = MLPClassifier(hidden_layer_sizes=best_hidden_layer_size,batch_size=best_batch_size, max_iter=500, alpha=1e-4, solver='sgd',\n",
    "                    tol=1e-4, random_state=ID,learning_rate_init=best_learning_rate)\n",
    "best_mlp.fit(X_train,y_train)\n",
    "\n",
    "\n",
    "training_error = 1 - best_mlp.score(X_train,y_train)\n",
    "test_error = 1 - best_mlp.score(X_test,y_test)\n",
    "\n",
    "\n",
    "print ('\\nRESULTS FOR BEST NN\\n')\n",
    "\n",
    "print (\"Best NN training error:\", training_error)\n",
    "print (\"Best NN test error:\", test_error)\n",
    "\n",
    "\n",
    "loss_curve = best_mlp.loss_curve_\n",
    "plt.title(\"Learning curve with hidden_layer_size = (50,) batch_size=50\")\n",
    "plt.plot(loss_curve,label=\"LR = 0.02 \")\n",
    "plt.legend()\n"
   ]
  },
  {
   "cell_type": "markdown",
   "metadata": {},
   "source": [
    "## More data \n",
    "Now let's do the same but using 4000 (or less if it takes too long on your machine) data points for training. Use the same NN architecture as before, but you can try more if you like and have a powerful computer!!"
   ]
  },
  {
   "cell_type": "code",
   "execution_count": 13,
   "metadata": {},
   "outputs": [
    {
     "name": "stdout",
     "output_type": "stream",
     "text": [
      "Labels in training dataset:  [0 1 2 3 4 5 6 7 8 9]\n",
      "Frequencies in training dataset:  [405 355 408 402 412 386 412 391 420 409]\n"
     ]
    }
   ],
   "source": [
    "X = X[permutation]\n",
    "y = y[permutation]\n",
    "\n",
    "m_training = 4000\n",
    "\n",
    "X_train, X_test = X[:m_training], X[m_training:]\n",
    "y_train, y_test = y[:m_training], y[m_training:]\n",
    "\n",
    "labels, freqs = np.unique(y_train, return_counts=True)\n",
    "print(\"Labels in training dataset: \", labels)\n",
    "print(\"Frequencies in training dataset: \", freqs)"
   ]
  },
  {
   "cell_type": "markdown",
   "metadata": {},
   "source": [
    "### TO DO 6\n",
    "\n",
    "Now train the NNs with the added data points using the optimum parameters found above. Eventually, feel free to try different architectures if you like. We suggest that you use 'verbose=True' so have an idea of how long it takes to run 1 iteration (eventually reduce also the number of iterations to 50)."
   ]
  },
  {
   "cell_type": "code",
   "execution_count": 14,
   "metadata": {},
   "outputs": [
    {
     "name": "stdout",
     "output_type": "stream",
     "text": [
      "Iteration 1, loss = 1.20622945\n",
      "Iteration 2, loss = 0.62131833\n",
      "Iteration 3, loss = 0.47885704\n",
      "Iteration 4, loss = 0.38928019\n",
      "Iteration 5, loss = 0.32297877\n",
      "Iteration 6, loss = 0.27151080\n",
      "Iteration 7, loss = 0.22614336\n",
      "Iteration 8, loss = 0.18617379\n",
      "Iteration 9, loss = 0.16064204\n",
      "Iteration 10, loss = 0.13717285\n",
      "Iteration 11, loss = 0.11454700\n",
      "Iteration 12, loss = 0.09578999\n",
      "Iteration 13, loss = 0.07911719\n",
      "Iteration 14, loss = 0.06804800\n",
      "Iteration 15, loss = 0.05949739\n",
      "Iteration 16, loss = 0.05045838\n",
      "Iteration 17, loss = 0.04372052\n",
      "Iteration 18, loss = 0.03877010\n",
      "Iteration 19, loss = 0.03317661\n",
      "Iteration 20, loss = 0.02998432\n",
      "Iteration 21, loss = 0.02669938\n",
      "Iteration 22, loss = 0.02371244\n",
      "Iteration 23, loss = 0.02134797\n",
      "Iteration 24, loss = 0.02004562\n",
      "Iteration 25, loss = 0.01796991\n",
      "Iteration 26, loss = 0.01656208\n",
      "Iteration 27, loss = 0.01541069\n",
      "Iteration 28, loss = 0.01422303\n",
      "Iteration 29, loss = 0.01333340\n",
      "Iteration 30, loss = 0.01253898\n",
      "Iteration 31, loss = 0.01184471\n",
      "Iteration 32, loss = 0.01122287\n",
      "Iteration 33, loss = 0.01056178\n",
      "Iteration 34, loss = 0.01001134\n",
      "Iteration 35, loss = 0.00955283\n",
      "Iteration 36, loss = 0.00904285\n",
      "Iteration 37, loss = 0.00868773\n",
      "Iteration 38, loss = 0.00828699\n",
      "Iteration 39, loss = 0.00792225\n",
      "Iteration 40, loss = 0.00769876\n",
      "Iteration 41, loss = 0.00732885\n",
      "Iteration 42, loss = 0.00702487\n",
      "Iteration 43, loss = 0.00684882\n",
      "Iteration 44, loss = 0.00658990\n",
      "Iteration 45, loss = 0.00638766\n",
      "Iteration 46, loss = 0.00617098\n",
      "Iteration 47, loss = 0.00596324\n",
      "Iteration 48, loss = 0.00581648\n",
      "Iteration 49, loss = 0.00559385\n",
      "Iteration 50, loss = 0.00544403\n"
     ]
    },
    {
     "name": "stderr",
     "output_type": "stream",
     "text": [
      "C:\\Users\\Administrador\\Anaconda3\\lib\\site-packages\\sklearn\\neural_network\\multilayer_perceptron.py:566: ConvergenceWarning: Stochastic Optimizer: Maximum iterations (50) reached and the optimization hasn't converged yet.\n",
      "  % self.max_iter, ConvergenceWarning)\n"
     ]
    },
    {
     "name": "stdout",
     "output_type": "stream",
     "text": [
      "\n",
      "RESULTS FOR NN\n",
      "\n",
      "NN training error:  0.0\n",
      "NN test error: 0.1347857142857143\n"
     ]
    }
   ],
   "source": [
    "\n",
    "larger_best_mlp = MLPClassifier(hidden_layer_sizes=best_hidden_layer_size,batch_size=best_batch_size, max_iter=50,verbose=True, alpha=1e-4, solver='sgd',\n",
    "                    tol=1e-4, random_state=ID,learning_rate_init=best_learning_rate)\n",
    "\n",
    "larger_best_mlp.fit(X_train,y_train)\n",
    "\n",
    "training_error = 1 - larger_best_mlp.score(X_train,y_train)\n",
    "test_error = 1 - larger_best_mlp.score(X_test,y_test)\n",
    "\n",
    "\n",
    "print ('\\nRESULTS FOR NN\\n')\n",
    "\n",
    "\n",
    "print (\"NN training error: \", training_error)\n",
    "print (\"NN test error:\" , test_error)\n"
   ]
  },
  {
   "cell_type": "markdown",
   "metadata": {},
   "source": [
    "## QUESTION 4\n",
    "Compare the train and test error you got with a large number of samples with the best one you obtained with only 600 data points. Comment about the results you obtained."
   ]
  },
  {
   "cell_type": "markdown",
   "metadata": {},
   "source": [
    "#### [ANSWER TO QUESTION 4]\n",
    "\n",
    "The training error is the same with 600  and 4000 training samples. However, the test error is getting smaller when the number of training samples increases.\n",
    "This makes sense, because the model is trained with more data and can be more accurate and generalized."
   ]
  },
  {
   "cell_type": "markdown",
   "metadata": {},
   "source": [
    "### TO DO 7\n",
    "\n",
    "Plot an example that was missclassified by NN with m=600 training data points and it is now instead correctly classified by NN with m=4000 training data points."
   ]
  },
  {
   "cell_type": "code",
   "execution_count": 15,
   "metadata": {},
   "outputs": [
    {
     "name": "stdout",
     "output_type": "stream",
     "text": [
      "INPUT:\n"
     ]
    },
    {
     "data": {
      "image/png": "[encoded data removed]",
      "text/plain": [
       "<Figure size 432x288 with 1 Axes>"
      ]
     },
     "metadata": {
      "needs_background": "light"
     },
     "output_type": "display_data"
    },
    {
     "name": "stdout",
     "output_type": "stream",
     "text": [
      "LABEL: 1\n",
      "Real Y: 1\n",
      "Y predicted wrongly by NN 600 training points: 8\n",
      "Y predicted correctly by NN 4000 training points: 1\n"
     ]
    }
   ],
   "source": [
    "NN_prediction = best_mlp.predict(X_test)\n",
    "large_NN_prediction = larger_best_mlp.predict(X_test)\n",
    "m_test = X_test.shape[0]\n",
    "\n",
    "for i in range(m_test):\n",
    "    if (NN_prediction[i]!=y_test[i] and large_NN_prediction[i]==y_test[i]):\n",
    "        plot_input(X_test,y_test,i)\n",
    "        print(\"Real Y:\",y_test[i])\n",
    "        print(\"Y predicted wrongly by NN 600 training points:\",NN_prediction[i])\n",
    "        print(\"Y predicted correctly by NN 4000 training points:\",large_NN_prediction[i])\n",
    "        break\n",
    "        \n",
    "    \n",
    "\n",
    "\n",
    "        "
   ]
  },
  {
   "cell_type": "markdown",
   "metadata": {},
   "source": [
    "### TO DO 8\n",
    "\n",
    "Let's plot the weigths of the multi-layer perceptron classifier, for the best NN we get with 600 data points and with 4000 data points. The code is already provided, just fix variable names (e.g., replace mlp , mlp_large with your estimators) in order to have it working with your implementation\n",
    "\n"
   ]
  },
  {
   "cell_type": "code",
   "execution_count": 16,
   "metadata": {},
   "outputs": [
    {
     "name": "stdout",
     "output_type": "stream",
     "text": [
      "Weights with 600 data points:\n"
     ]
    },
    {
     "data": {
      "image/png": "[encoded data removed]",
      "text/plain": [
       "<Figure size 432x288 with 16 Axes>"
      ]
     },
     "metadata": {},
     "output_type": "display_data"
    },
    {
     "name": "stdout",
     "output_type": "stream",
     "text": [
      "Weights with 4000 data points:\n"
     ]
    },
    {
     "data": {
      "image/png": "[encoded data removed]",
      "text/plain": [
       "<Figure size 432x288 with 16 Axes>"
      ]
     },
     "metadata": {},
     "output_type": "display_data"
    }
   ],
   "source": [
    "print(\"Weights with 600 data points:\")\n",
    "\n",
    "fig, axes = plt.subplots(4, 4)\n",
    "vmin, vmax = best_mlp.coefs_[0].min(), best_mlp.coefs_[0].max()\n",
    "for coef, ax in zip(best_mlp.coefs_[0].T, axes.ravel()):\n",
    "    ax.matshow(coef.reshape(28, 28), cmap=plt.cm.gray, vmin=.5 * vmin,\n",
    "               vmax=.5 * vmax)\n",
    "    ax.set_xticks(())\n",
    "    ax.set_yticks(())\n",
    "\n",
    "plt.show()\n",
    "\n",
    "print(\"Weights with 4000 data points:\")\n",
    "\n",
    "fig, axes = plt.subplots(4, 4)\n",
    "vmin, vmax = larger_best_mlp.coefs_[0].min(), larger_best_mlp.coefs_[0].max()\n",
    "for coef, ax in zip(larger_best_mlp.coefs_[0].T, axes.ravel()):\n",
    "    ax.matshow(coef.reshape(28, 28), cmap=plt.cm.gray, vmin=.5 * vmin,\n",
    "               vmax=.5 * vmax)\n",
    "    ax.set_xticks(())\n",
    "    ax.set_yticks(())\n",
    "plt.show()"
   ]
  },
  {
   "cell_type": "markdown",
   "metadata": {},
   "source": [
    "## QUESTION 5\n",
    "\n",
    "Describe what do you observe by looking at the weights."
   ]
  },
  {
   "cell_type": "markdown",
   "metadata": {},
   "source": [
    "##### [ANSWER TO QUESTION 5]\n",
    "\n",
    "I would say that the weights for the MLPClassifier with 4000 training data points has more details.\n",
    "\n",
    "If we compare the weight which is in the last row, third column,  the weight with 600 data points is almost grey while the weight with 4000 data points has more shades of black and white."
   ]
  },
  {
   "cell_type": "markdown",
   "metadata": {},
   "source": [
    "### TO DO 9\n",
    "\n",
    "Take the best SVM model and its parameters, you found in the last notebook. Fit it on a few data points and compute its training and test scores. Then fit also a logistic regression model with C=1. "
   ]
  },
  {
   "cell_type": "code",
   "execution_count": 17,
   "metadata": {},
   "outputs": [
    {
     "name": "stdout",
     "output_type": "stream",
     "text": [
      "RESULTS FOR SVM\n",
      "Training score SVM: 0.0\n",
      "Test score SVM: 0.08420000000000005\n"
     ]
    }
   ],
   "source": [
    "m_training = 5000\n",
    "\n",
    "X_train, X_test = X[:m_training], X[m_training:2*m_training]\n",
    "y_train, y_test = y[:m_training], y[m_training:2*m_training]\n",
    "\n",
    "# use best parameters found in the SVM notebook, create SVM and perform fitting\n",
    "\n",
    "best_SVM = SVC(C=10,kernel='rbf',gamma=0.01)\n",
    "best_SVM.fit(X_train,y_train)\n",
    "\n",
    "SVM_training_error = 1 - best_SVM.score(X_train,y_train)\n",
    "SVM_test_error = 1 - best_SVM.score(X_test,y_test)\n",
    "\n",
    "print ('RESULTS FOR SVM')\n",
    "\n",
    "print(\"Training score SVM:\",SVM_training_error)\n",
    "print(\"Test score SVM:\",SVM_test_error)\n"
   ]
  },
  {
   "cell_type": "code",
   "execution_count": 21,
   "metadata": {},
   "outputs": [
    {
     "name": "stdout",
     "output_type": "stream",
     "text": [
      "Iteration 1, loss = 1.11463521\n",
      "Iteration 2, loss = 0.57259483\n",
      "Iteration 3, loss = 0.44954852\n",
      "Iteration 4, loss = 0.36110279\n",
      "Iteration 5, loss = 0.29956414\n",
      "Iteration 6, loss = 0.24595259\n",
      "Iteration 7, loss = 0.21179782\n",
      "Iteration 8, loss = 0.17919910\n",
      "Iteration 9, loss = 0.14959947\n",
      "Iteration 10, loss = 0.12649753\n",
      "Iteration 11, loss = 0.10414956\n",
      "Iteration 12, loss = 0.08853944\n",
      "Iteration 13, loss = 0.07360701\n",
      "Iteration 14, loss = 0.06355278\n",
      "Iteration 15, loss = 0.05388599\n",
      "Iteration 16, loss = 0.04792401\n",
      "Iteration 17, loss = 0.04147838\n",
      "Iteration 18, loss = 0.03621274\n",
      "Iteration 19, loss = 0.03202638\n",
      "Iteration 20, loss = 0.02843374\n",
      "Iteration 21, loss = 0.02491235\n",
      "Iteration 22, loss = 0.02284835\n",
      "Iteration 23, loss = 0.02092434\n",
      "Iteration 24, loss = 0.01885992\n",
      "Iteration 25, loss = 0.01692621\n",
      "Iteration 26, loss = 0.01565348\n",
      "Iteration 27, loss = 0.01445227\n",
      "Iteration 28, loss = 0.01352706\n",
      "Iteration 29, loss = 0.01245307\n",
      "Iteration 30, loss = 0.01167076\n",
      "Iteration 31, loss = 0.01115398\n",
      "Iteration 32, loss = 0.01042551\n",
      "Iteration 33, loss = 0.00999151\n",
      "Iteration 34, loss = 0.00940763\n",
      "Iteration 35, loss = 0.00891160\n",
      "Iteration 36, loss = 0.00839347\n",
      "Iteration 37, loss = 0.00810668\n",
      "Iteration 38, loss = 0.00777341\n",
      "Iteration 39, loss = 0.00735959\n",
      "Iteration 40, loss = 0.00708345\n",
      "Iteration 41, loss = 0.00689654\n",
      "Iteration 42, loss = 0.00656141\n",
      "Iteration 43, loss = 0.00639274\n",
      "Iteration 44, loss = 0.00609968\n",
      "Iteration 45, loss = 0.00593234\n",
      "Iteration 46, loss = 0.00573181\n",
      "Iteration 47, loss = 0.00554418\n",
      "Iteration 48, loss = 0.00539835\n",
      "Iteration 49, loss = 0.00523155\n",
      "Iteration 50, loss = 0.00506690\n",
      "Iteration 51, loss = 0.00496481\n",
      "Iteration 52, loss = 0.00478678\n",
      "Iteration 53, loss = 0.00471430\n",
      "Iteration 54, loss = 0.00455446\n",
      "Iteration 55, loss = 0.00447207\n",
      "Iteration 56, loss = 0.00434666\n",
      "Iteration 57, loss = 0.00424439\n",
      "Iteration 58, loss = 0.00414864\n",
      "Iteration 59, loss = 0.00406459\n",
      "Iteration 60, loss = 0.00397871\n",
      "Iteration 61, loss = 0.00388784\n",
      "Iteration 62, loss = 0.00380519\n",
      "Iteration 63, loss = 0.00373035\n",
      "Iteration 64, loss = 0.00364502\n",
      "Iteration 65, loss = 0.00359023\n",
      "Iteration 66, loss = 0.00352353\n",
      "Iteration 67, loss = 0.00344598\n",
      "Iteration 68, loss = 0.00338772\n",
      "Training loss did not improve more than tol=0.000100 for 10 consecutive epochs. Stopping.\n",
      "RESULTS FOR NN\n",
      "Training score NN: 0.0\n",
      "Test score SVM: 0.12319999999999998\n"
     ]
    }
   ],
   "source": [
    "#MLP with 5000 training data points\n",
    "larger_best_mlp2 = MLPClassifier(hidden_layer_sizes=best_hidden_layer_size,batch_size=best_batch_size, max_iter=100,verbose=True, alpha=1e-4, solver='sgd',\n",
    "                    tol=1e-4, random_state=ID,learning_rate_init=best_learning_rate)\n",
    "\n",
    "larger_best_mlp2.fit(X_train,y_train)\n",
    "\n",
    "NN_training_error = 1 - larger_best_mlp2.score(X_train,y_train)\n",
    "NN_test_error = 1 - larger_best_mlp2.score(X_test,y_test)\n",
    "\n",
    "print ('RESULTS FOR NN')\n",
    "\n",
    "print(\"Training score NN:\",NN_training_error)\n",
    "print(\"Test score NN:\",NN_test_error)"
   ]
  },
  {
   "cell_type": "code",
   "execution_count": 18,
   "metadata": {},
   "outputs": [
    {
     "name": "stderr",
     "output_type": "stream",
     "text": [
      "C:\\Users\\Administrador\\Anaconda3\\lib\\site-packages\\sklearn\\linear_model\\logistic.py:432: FutureWarning: Default solver will be changed to 'lbfgs' in 0.22. Specify a solver to silence this warning.\n",
      "  FutureWarning)\n",
      "C:\\Users\\Administrador\\Anaconda3\\lib\\site-packages\\sklearn\\linear_model\\logistic.py:469: FutureWarning: Default multi_class will be changed to 'auto' in 0.22. Specify the multi_class option to silence this warning.\n",
      "  \"this warning.\", FutureWarning)\n"
     ]
    },
    {
     "name": "stdout",
     "output_type": "stream",
     "text": [
      "\n",
      "RESULTS FOR LOGISTIC REGRESSION WITH REGULARIZATION\n",
      "Training error (reg): 0.06279999999999997\n",
      "Test error (reg): 0.2338\n"
     ]
    }
   ],
   "source": [
    "from sklearn import linear_model\n",
    "\n",
    "regL2 = linear_model.LogisticRegression(C=1.0)\n",
    "regL2.fit(X_train,y_train)\n",
    "\n",
    "\n",
    "#ADD YOUR CODE\n",
    "\n",
    "print ('\\nRESULTS FOR LOGISTIC REGRESSION WITH REGULARIZATION')\n",
    "\n",
    "training_error = 1 - regL2.score(X_train,y_train) \n",
    "test_error = 1 -  regL2.score(X_test,y_test)\n",
    "\n",
    "print (\"Training error (reg):\", training_error)\n",
    "print (\"Test error (reg):\", test_error)"
   ]
  },
  {
   "cell_type": "markdown",
   "metadata": {},
   "source": [
    "## QUESTION 6\n",
    "Compare the results of Logistic Regression, SVM and NN. Which one achieve the best results? "
   ]
  },
  {
   "cell_type": "markdown",
   "metadata": {},
   "source": [
    "###### [ANSWER TO QUESTION 6]\n",
    "\n",
    "The best results to this classification problem are obtained with SVM model because after training it we obtained the smallest test error (0.08) which is very accurate. \n",
    "\n",
    "After SVM, the best option will be the Neural Network because test error (0.123) is quite smaller than the one obtained when we use Logistic Regression Model (0.23).\n",
    "\n",
    "Usually Logistic Regression is used to solve problems of binary classification. The classification in this problem is among 10 labels, so this could be one of the reasons why this method is the least accurate for solving this problem. "
   ]
  }
 ],
 "metadata": {
  "kernelspec": {
   "display_name": "Python 3",
   "language": "python",
   "name": "python3"
  },
  "language_info": {
   "codemirror_mode": {
    "name": "ipython",
    "version": 3
   },
   "file_extension": ".py",
   "mimetype": "text/x-python",
   "name": "python",
   "nbconvert_exporter": "python",
   "pygments_lexer": "ipython3",
   "version": "3.9.12"
  }
 },
 "nbformat": 4,
 "nbformat_minor": 4
}
